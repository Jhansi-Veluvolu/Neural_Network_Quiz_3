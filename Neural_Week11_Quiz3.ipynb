{
  "nbformat": 4,
  "nbformat_minor": 0,
  "metadata": {
    "colab": {
      "provenance": []
    },
    "kernelspec": {
      "name": "python3",
      "display_name": "Python 3"
    },
    "language_info": {
      "name": "python"
    }
  },
  "cells": [
    {
      "cell_type": "code",
      "execution_count": null,
      "metadata": {
        "colab": {
          "base_uri": "https://localhost:8080/"
        },
        "id": "nAjbxu91G2V-",
        "outputId": "20aa9b76-d041-4efd-f71b-1bebdfc11814"
      },
      "outputs": [
        {
          "output_type": "stream",
          "name": "stdout",
          "text": [
            "Downloading data from https://storage.googleapis.com/tensorflow/tf-keras-datasets/mnist.npz\n",
            "11490434/11490434 [==============================] - 0s 0us/step\n"
          ]
        }
      ],
      "source": [
        "from keras.datasets import mnist\n",
        "import numpy as np\n",
        "\n",
        "# Load MNIST dataset\n",
        "(x_train, _), (x_test, _) = mnist.load_data()\n",
        "\n",
        "# Normalize and reshape\n",
        "x_train = x_train.astype('float32') / 255.\n",
        "x_test = x_test.astype('float32') / 255.\n",
        "x_train = x_train.reshape((len(x_train), np.prod(x_train.shape[1:])))\n",
        "x_test = x_test.reshape((len(x_test), np.prod(x_test.shape[1:])))\n",
        "\n",
        "# Introduce noise\n",
        "noise_factor = 0.5\n",
        "x_train_noisy = x_train + noise_factor * np.random.normal(loc=0.0, scale=1.0, size=x_train.shape)\n",
        "x_test_noisy = x_test + noise_factor * np.random.normal(loc=0.0, scale=1.0, size=x_test.shape)\n",
        "x_train_noisy = np.clip(x_train_noisy, 0., 1.)\n",
        "x_test_noisy = np.clip(x_test_noisy,0.,1.)"
      ]
    },
    {
      "cell_type": "code",
      "source": [
        "from keras.layers import Input, Dense\n",
        "from keras.models import Model\n",
        "\n",
        "input_img = Input(shape=(784,))\n",
        "encoded = Dense(128, activation='relu')(input_img)\n",
        "encoded = Dense(64, activation='relu')(encoded)\n",
        "\n",
        "decoded = Dense(128, activation='relu')(encoded)\n",
        "decoded = Dense(784, activation='sigmoid')(decoded)\n",
        "\n",
        "autoencoder = Model(input_img,decoded)"
      ],
      "metadata": {
        "id": "aKR3LDToG8LP"
      },
      "execution_count": null,
      "outputs": []
    },
    {
      "cell_type": "code",
      "source": [
        "from keras.datasets import mnist\n",
        "import numpy as np\n",
        "\n",
        "# Load MNIST dataset\n",
        "(x_train, _), (x_test, _) = mnist.load_data()\n",
        "\n",
        "# Normalize and reshape\n",
        "x_train = x_train.astype('float32') / 255.\n",
        "x_test = x_test.astype('float32') / 255.\n",
        "x_train = x_train.reshape((len(x_train), np.prod(x_train.shape[1:])))\n",
        "x_test = x_test.reshape((len(x_test), np.prod(x_test.shape[1:])))\n",
        "\n",
        "# Introduce noise\n",
        "noise_factor = 0.5\n",
        "x_train_noisy = x_train + noise_factor * np.random.normal(loc=0.0, scale=1.0, size=x_train.shape)\n",
        "x_test_noisy = x_test + noise_factor * np.random.normal(loc=0.0, scale=1.0, size=x_test.shape)\n",
        "x_train_noisy = np.clip(x_train_noisy, 0., 1.)\n",
        "x_test_noisy = np.clip(x_test_noisy,0.,1.)"
      ],
      "metadata": {
        "id": "0ZJpsRDmHMoN",
        "colab": {
          "base_uri": "https://localhost:8080/"
        },
        "outputId": "df09c21e-f8aa-436a-8f8d-e83f2319a7a1"
      },
      "execution_count": 1,
      "outputs": [
        {
          "output_type": "stream",
          "name": "stdout",
          "text": [
            "Downloading data from https://storage.googleapis.com/tensorflow/tf-keras-datasets/mnist.npz\n",
            "11490434/11490434 [==============================] - 0s 0us/step\n"
          ]
        }
      ]
    },
    {
      "cell_type": "code",
      "source": [
        "from keras.layers import Input, Dense\n",
        "from keras.models import Model\n",
        "\n",
        "input_img = Input(shape=(784,))\n",
        "encoded = Dense(128, activation='relu')(input_img)\n",
        "encoded = Dense(64, activation='relu')(encoded)\n",
        "\n",
        "decoded = Dense(128, activation='relu')(encoded)\n",
        "decoded = Dense(784, activation='sigmoid')(decoded)\n",
        "\n",
        "autoencoder = Model(input_img,decoded)"
      ],
      "metadata": {
        "id": "6igVebirUl0a"
      },
      "execution_count": 2,
      "outputs": []
    },
    {
      "cell_type": "code",
      "source": [
        "from keras.optimizers import Adam\n",
        "\n",
        "autoencoder.compile(optimizer=Adam(learning_rate=0.001), loss='mean_squared_error')\n",
        "\n",
        "history = autoencoder.fit(x_train_noisy, x_train,\n",
        "                          epochs=50,\n",
        "                          batch_size=256,\n",
        "                          shuffle=True,\n",
        "                          validation_data=(x_test_noisy,x_test))"
      ],
      "metadata": {
        "colab": {
          "base_uri": "https://localhost:8080/"
        },
        "id": "AF_GK_CeUw_o",
        "outputId": "194c00ef-f6f0-470c-9abd-29e4ddf420c5"
      },
      "execution_count": 3,
      "outputs": [
        {
          "output_type": "stream",
          "name": "stdout",
          "text": [
            "Epoch 1/50\n",
            "235/235 [==============================] - 4s 14ms/step - loss: 0.0606 - val_loss: 0.0379\n",
            "Epoch 2/50\n",
            "235/235 [==============================] - 3s 13ms/step - loss: 0.0332 - val_loss: 0.0291\n",
            "Epoch 3/50\n",
            "235/235 [==============================] - 4s 17ms/step - loss: 0.0275 - val_loss: 0.0257\n",
            "Epoch 4/50\n",
            "235/235 [==============================] - 3s 13ms/step - loss: 0.0248 - val_loss: 0.0236\n",
            "Epoch 5/50\n",
            "235/235 [==============================] - 3s 12ms/step - loss: 0.0232 - val_loss: 0.0221\n",
            "Epoch 6/50\n",
            "235/235 [==============================] - 3s 13ms/step - loss: 0.0219 - val_loss: 0.0212\n",
            "Epoch 7/50\n",
            "235/235 [==============================] - 4s 17ms/step - loss: 0.0210 - val_loss: 0.0204\n",
            "Epoch 8/50\n",
            "235/235 [==============================] - 3s 13ms/step - loss: 0.0202 - val_loss: 0.0197\n",
            "Epoch 9/50\n",
            "235/235 [==============================] - 3s 13ms/step - loss: 0.0195 - val_loss: 0.0191\n",
            "Epoch 10/50\n",
            "235/235 [==============================] - 3s 13ms/step - loss: 0.0190 - val_loss: 0.0187\n",
            "Epoch 11/50\n",
            "235/235 [==============================] - 4s 17ms/step - loss: 0.0186 - val_loss: 0.0183\n",
            "Epoch 12/50\n",
            "235/235 [==============================] - 3s 12ms/step - loss: 0.0182 - val_loss: 0.0181\n",
            "Epoch 13/50\n",
            "235/235 [==============================] - 3s 13ms/step - loss: 0.0180 - val_loss: 0.0179\n",
            "Epoch 14/50\n",
            "235/235 [==============================] - 4s 15ms/step - loss: 0.0177 - val_loss: 0.0176\n",
            "Epoch 15/50\n",
            "235/235 [==============================] - 3s 15ms/step - loss: 0.0175 - val_loss: 0.0177\n",
            "Epoch 16/50\n",
            "235/235 [==============================] - 3s 14ms/step - loss: 0.0173 - val_loss: 0.0171\n",
            "Epoch 17/50\n",
            "235/235 [==============================] - 3s 12ms/step - loss: 0.0171 - val_loss: 0.0174\n",
            "Epoch 18/50\n",
            "235/235 [==============================] - 3s 15ms/step - loss: 0.0169 - val_loss: 0.0169\n",
            "Epoch 19/50\n",
            "235/235 [==============================] - 3s 14ms/step - loss: 0.0168 - val_loss: 0.0169\n",
            "Epoch 20/50\n",
            "235/235 [==============================] - 3s 12ms/step - loss: 0.0167 - val_loss: 0.0169\n",
            "Epoch 21/50\n",
            "235/235 [==============================] - 3s 12ms/step - loss: 0.0165 - val_loss: 0.0165\n",
            "Epoch 22/50\n",
            "235/235 [==============================] - 3s 14ms/step - loss: 0.0164 - val_loss: 0.0165\n",
            "Epoch 23/50\n",
            "235/235 [==============================] - 3s 15ms/step - loss: 0.0163 - val_loss: 0.0163\n",
            "Epoch 24/50\n",
            "235/235 [==============================] - 3s 12ms/step - loss: 0.0162 - val_loss: 0.0163\n",
            "Epoch 25/50\n",
            "235/235 [==============================] - 3s 13ms/step - loss: 0.0161 - val_loss: 0.0162\n",
            "Epoch 26/50\n",
            "235/235 [==============================] - 3s 14ms/step - loss: 0.0161 - val_loss: 0.0162\n",
            "Epoch 27/50\n",
            "235/235 [==============================] - 3s 15ms/step - loss: 0.0160 - val_loss: 0.0161\n",
            "Epoch 28/50\n",
            "235/235 [==============================] - 3s 13ms/step - loss: 0.0159 - val_loss: 0.0161\n",
            "Epoch 29/50\n",
            "235/235 [==============================] - 3s 12ms/step - loss: 0.0158 - val_loss: 0.0160\n",
            "Epoch 30/50\n",
            "235/235 [==============================] - 3s 13ms/step - loss: 0.0157 - val_loss: 0.0159\n",
            "Epoch 31/50\n",
            "235/235 [==============================] - 4s 16ms/step - loss: 0.0157 - val_loss: 0.0160\n",
            "Epoch 32/50\n",
            "235/235 [==============================] - 3s 12ms/step - loss: 0.0156 - val_loss: 0.0158\n",
            "Epoch 33/50\n",
            "235/235 [==============================] - 3s 12ms/step - loss: 0.0155 - val_loss: 0.0157\n",
            "Epoch 34/50\n",
            "235/235 [==============================] - 3s 12ms/step - loss: 0.0155 - val_loss: 0.0157\n",
            "Epoch 35/50\n",
            "235/235 [==============================] - 5s 19ms/step - loss: 0.0154 - val_loss: 0.0157\n",
            "Epoch 36/50\n",
            "235/235 [==============================] - 3s 12ms/step - loss: 0.0154 - val_loss: 0.0156\n",
            "Epoch 37/50\n",
            "235/235 [==============================] - 3s 12ms/step - loss: 0.0153 - val_loss: 0.0156\n",
            "Epoch 38/50\n",
            "235/235 [==============================] - 3s 12ms/step - loss: 0.0153 - val_loss: 0.0156\n",
            "Epoch 39/50\n",
            "235/235 [==============================] - 4s 16ms/step - loss: 0.0153 - val_loss: 0.0155\n",
            "Epoch 40/50\n",
            "235/235 [==============================] - 3s 12ms/step - loss: 0.0153 - val_loss: 0.0156\n",
            "Epoch 41/50\n",
            "235/235 [==============================] - 3s 12ms/step - loss: 0.0152 - val_loss: 0.0154\n",
            "Epoch 42/50\n",
            "235/235 [==============================] - 3s 12ms/step - loss: 0.0151 - val_loss: 0.0155\n",
            "Epoch 43/50\n",
            "235/235 [==============================] - 4s 17ms/step - loss: 0.0151 - val_loss: 0.0155\n",
            "Epoch 44/50\n",
            "235/235 [==============================] - 3s 12ms/step - loss: 0.0151 - val_loss: 0.0154\n",
            "Epoch 45/50\n",
            "235/235 [==============================] - 3s 13ms/step - loss: 0.0151 - val_loss: 0.0154\n",
            "Epoch 46/50\n",
            "235/235 [==============================] - 3s 13ms/step - loss: 0.0150 - val_loss: 0.0157\n",
            "Epoch 47/50\n",
            "235/235 [==============================] - 4s 17ms/step - loss: 0.0150 - val_loss: 0.0154\n",
            "Epoch 48/50\n",
            "235/235 [==============================] - 3s 12ms/step - loss: 0.0150 - val_loss: 0.0153\n",
            "Epoch 49/50\n",
            "235/235 [==============================] - 3s 12ms/step - loss: 0.0149 - val_loss: 0.0153\n",
            "Epoch 50/50\n",
            "235/235 [==============================] - 3s 13ms/step - loss: 0.0149 - val_loss: 0.0153\n"
          ]
        }
      ]
    },
    {
      "cell_type": "code",
      "source": [
        "# Evaluate the model\n",
        "evaluation = autoencoder.evaluate(x_test_noisy, x_test)\n",
        "print(\"Test Loss:\", evaluation)\n",
        "\n",
        "# Visualize results\n",
        "import matplotlib.pyplot as plt\n",
        "\n",
        "n = 10  # number of digits to display\n",
        "plt.figure(figsize=(20, 4))\n",
        "for i in range(n):\n",
        "    # Display original\n",
        "    ax = plt.subplot(2, n, i + 1)\n",
        "    plt.imshow(x_test_noisy[i].reshape(28, 28))\n",
        "    plt.gray()\n",
        "    ax.get_xaxis().set_visible(False)\n",
        "    ax.get_yaxis().set_visible(False)\n",
        "\n",
        "    # Display reconstruction\n",
        "    ax = plt.subplot(2, n, i + 1 + n)\n",
        "    decoded_imgs = autoencoder.predict(x_test_noisy[i:i+1])\n",
        "    plt.imshow(decoded_imgs.reshape(28, 28))\n",
        "    plt.gray()\n",
        "    ax.get_xaxis().set_visible(False)\n",
        "    ax.get_yaxis().set_visible(False)\n",
        "plt.show()"
      ],
      "metadata": {
        "colab": {
          "base_uri": "https://localhost:8080/",
          "height": 513
        },
        "id": "A2mBl0AFU2m1",
        "outputId": "26963428-3cc1-4ea1-d327-62199a059945"
      },
      "execution_count": 4,
      "outputs": [
        {
          "output_type": "stream",
          "name": "stdout",
          "text": [
            "313/313 [==============================] - 2s 5ms/step - loss: 0.0153\n",
            "Test Loss: 0.015259035862982273\n",
            "1/1 [==============================] - 0s 207ms/step\n",
            "1/1 [==============================] - 0s 39ms/step\n",
            "1/1 [==============================] - 0s 30ms/step\n",
            "1/1 [==============================] - 0s 45ms/step\n",
            "1/1 [==============================] - 0s 70ms/step\n",
            "1/1 [==============================] - 0s 28ms/step\n",
            "1/1 [==============================] - 0s 39ms/step\n",
            "1/1 [==============================] - 0s 170ms/step\n",
            "1/1 [==============================] - 0s 120ms/step\n",
            "1/1 [==============================] - 0s 44ms/step\n"
          ]
        },
        {
          "output_type": "display_data",
          "data": {
            "text/plain": [
              "<Figure size 2000x400 with 20 Axes>"
            ],
            "image/png": "[encoded data removed]"
          },
          "metadata": {}
        }
      ]
    },
    {
      "cell_type": "code",
      "source": [],
      "metadata": {
        "id": "df4PxvXDVijs"
      },
      "execution_count": null,
      "outputs": []
    }
  ]
}